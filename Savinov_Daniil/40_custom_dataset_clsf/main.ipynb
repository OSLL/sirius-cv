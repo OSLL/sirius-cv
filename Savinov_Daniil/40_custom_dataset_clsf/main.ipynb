{
 "cells": [
  {
   "cell_type": "markdown",
   "id": "broadband-chaos",
   "metadata": {
    "tags": []
   },
   "source": [
    "# Malaria\n",
    "https://www.kaggle.com/sagnikmazumder37/malaria-cell-imagesshuffled-and-split"
   ]
  },
  {
   "cell_type": "markdown",
   "id": "patent-waste",
   "metadata": {},
   "source": [
    "### Import libraries"
   ]
  },
  {
   "cell_type": "code",
   "execution_count": 1,
   "id": "greenhouse-citizen",
   "metadata": {
    "tags": []
   },
   "outputs": [],
   "source": [
    "import os\n",
    "import glob\n",
    "import warnings\n",
    "import random as rnd\n",
    "from collections import defaultdict\n",
    "from copy import deepcopy\n",
    "from tqdm import tqdm\n",
    "\n",
    "import numpy as np\n",
    "import matplotlib.pyplot as plt\n",
    "import PIL\n",
    "from PIL import Image as im\n",
    "\n",
    "import torch\n",
    "from torch.utils.data import Dataset, DataLoader\n",
    "from torchvision import transforms, utils\n",
    "from torchvision.transforms.functional import to_tensor\n",
    "import torchvision.models as models\n",
    "import torch.nn as nn\n",
    "import torch.optim\n",
    "import torch.backends.cudnn as cudnn\n",
    "\n",
    "import albumentations as A\n",
    "from albumentations.pytorch import ToTensorV2\n",
    "\n",
    "\n",
    "cudnn.benchmark = True\n",
    "warnings.filterwarnings('ignore', category=UserWarning)\n",
    "plt.ion()\n",
    "%matplotlib inline"
   ]
  },
  {
   "cell_type": "code",
   "execution_count": 2,
   "id": "fatal-impression",
   "metadata": {},
   "outputs": [],
   "source": [
    "def imread(path: str) -> PIL.PngImagePlugin.PngImageFile:\n",
    "    \"\"\"\n",
    "    Args:\n",
    "        path (string): Path to the image.\n",
    "    \"\"\"\n",
    "    img = im.open(path)\n",
    "    img.load()\n",
    "    return img\n",
    "\n",
    "\n",
    "def display_image_grid(images_filepaths, predicted_labels=(), cols=5):\n",
    "    rows = len(images_filepaths) // cols\n",
    "    figure, ax = plt.subplots(nrows=rows, ncols=cols, figsize=(12, 6))\n",
    "    for i, image_filepath in enumerate(images_filepaths):\n",
    "        image = cv2.imread(image_filepath)\n",
    "        image = cv2.cvtColor(image, cv2.COLOR_BGR2RGB)\n",
    "        true_label = os.path.normpath(image_filepath).split(os.sep)[-2]\n",
    "        predicted_label = predicted_labels[i] if predicted_labels else true_label\n",
    "        color = 'green' if true_label == predicted_label else 'red'\n",
    "        ax.ravel()[i].imshow(image)\n",
    "        ax.ravel()[i].set_title(predicted_label, color=color)\n",
    "        ax.ravel()[i].set_axis_off()\n",
    "    plt.tight_layout()\n",
    "    plt.show()"
   ]
  },
  {
   "cell_type": "markdown",
   "id": "least-genius",
   "metadata": {},
   "source": [
    "### Exploring dataset\n",
    "\n",
    "There are in `train` and `val` two folders with equal size: **parasitized** and **uninfected**. \n",
    "\n",
    "**Train:** 10334 * 2 = 20668 = **~66%**\n",
    "\n",
    "**Val:** 3445 * 2 = 6890 = **~33%**"
   ]
  },
  {
   "cell_type": "markdown",
   "id": "abstract-finance",
   "metadata": {},
   "source": [
    "### Datasets"
   ]
  },
  {
   "cell_type": "code",
   "execution_count": 3,
   "id": "velvet-fundamentals",
   "metadata": {},
   "outputs": [],
   "source": [
    "class MalariaDataset(Dataset):\n",
    "    \"\"\"Malaria dataset with parasitized and uninfected cells.\"\"\"\n",
    "    \n",
    "    def __init__(self, root_path: str, transform=None):\n",
    "        \"\"\"\n",
    "            Args:\n",
    "                root_path (string): Path to 'Parasitized' and 'Uninfected' folders.\n",
    "                transform (callable, optional): Optional transform to be applied\n",
    "                on a sample.\n",
    "        \"\"\"\n",
    "        self.transform = transform\n",
    "        self.path = root_path\n",
    "        self.all_paths = glob.glob(self.path + '/Parasitized/*.png') + glob.glob(self.path + '/Uninfected/*.png')\n",
    "        self.X = []\n",
    "        self.y = []\n",
    "        self.sum_w, self.sum_h = 0, 0\n",
    "        for path in tqdm(self.all_paths):\n",
    "            img = imread(path)\n",
    "            w, h = img.size\n",
    "            self.sum_w += w\n",
    "            self.sum_h += h\n",
    "            self.X.append(img)\n",
    "            label = path.split('/')[2]\n",
    "            if label == 'Uninfected':\n",
    "                self.y.append(0.)\n",
    "            else:\n",
    "                self.y.append(1.)\n",
    "        self.mean_w, self.mean_h = self.sum_w // len(self.X), self.sum_h // len(self.X)\n",
    "        \n",
    "    def __len__(self):\n",
    "        return len(self.X)\n",
    "    \n",
    "    def __getitem__(self, index: int):\n",
    "        img = self.X[index]\n",
    "        label = self.y[index]\n",
    "        if self.transform is not None:\n",
    "            img = self.transform(image=img)['image']\n",
    "        return img, label\n",
    "    \n",
    "    def standartize(self):\n",
    "        for i in tqdm(range(len(self.X))):\n",
    "            self.X[i] = self.X[i].resize((self.mean_w, self.mean_h))\n",
    "            self.X[i] = np.array(self.X[i]).reshape((3, self.mean_w, self.mean_h))\n",
    "            self.X[i] = torch.from_numpy(self.X[i])"
   ]
  },
  {
   "cell_type": "markdown",
   "id": "strong-peripheral",
   "metadata": {},
   "source": [
    "### Augmentations"
   ]
  },
  {
   "cell_type": "code",
   "execution_count": 4,
   "id": "enhanced-princeton",
   "metadata": {
    "tags": []
   },
   "outputs": [
    {
     "name": "stderr",
     "output_type": "stream",
     "text": [
      "100%|██████████| 20668/20668 [00:11<00:00, 1731.62it/s]\n",
      "100%|██████████| 20668/20668 [00:04<00:00, 4564.91it/s]\n"
     ]
    }
   ],
   "source": [
    "# train_transform = transforms.Compose(\n",
    "#     [\n",
    "#         A.SmallestMaxSize(max_size=160),\n",
    "#         A.ShiftScaleRotate(shift_limit=0.05, scale_limit=0.05, rotate_limit=15, p=0.5),\n",
    "#         A.RandomCrop(height=128, width=128),\n",
    "#         A.RGBShift(r_shift_limit=15, g_shift_limit=15, b_shift_limit=15, p=0.5),\n",
    "#         A.RandomBrightnessContrast(p=0.5),\n",
    "#         A.Normalize(mean=(0.485, 0.456, 0.406), std=(0.229, 0.224, 0.225)),\n",
    "#         transforms.ToTensor(),\n",
    "#     ]\n",
    "# )\n",
    "\n",
    "train_ds = MalariaDataset('data/train')\n",
    "train_ds.standartize()"
   ]
  },
  {
   "cell_type": "code",
   "execution_count": 5,
   "id": "resident-frank",
   "metadata": {},
   "outputs": [
    {
     "name": "stderr",
     "output_type": "stream",
     "text": [
      "100%|██████████| 3446/3446 [00:01<00:00, 1793.85it/s]\n",
      "100%|██████████| 3446/3446 [00:00<00:00, 4937.42it/s]\n"
     ]
    }
   ],
   "source": [
    "# val_transform = transforms.Compose(\n",
    "#     [\n",
    "#         A.SmallestMaxSize(max_size=160),\n",
    "#         A.CenterCrop(height=128, width=128),\n",
    "#         A.Normalize(mean=(0.485, 0.456, 0.406), std=(0.229, 0.224, 0.225)),\n",
    "#         transforms.ToTensor(),\n",
    "#     ]\n",
    "# )\n",
    "\n",
    "val_ds = MalariaDataset('data/val')\n",
    "val_ds.standartize()"
   ]
  },
  {
   "cell_type": "code",
   "execution_count": 6,
   "id": "rental-transmission",
   "metadata": {
    "jupyter": {
     "source_hidden": true
    },
    "tags": []
   },
   "outputs": [],
   "source": [
    "# def visualize_augmentations(dataset, title='', idx=0, samples=10, cols=5):\n",
    "#     dataset = deepcopy(dataset)\n",
    "# #     dataset.transform = transforms.Compose([t for t in dataset.transform if not isinstance(t, transforms.ToTensor)])\n",
    "#     rows = samples // cols\n",
    "#     _, ax = plt.subplots(nrows=rows, ncols=cols, figsize=(12, 6))\n",
    "#     for i in range(samples):\n",
    "#         image, _ = dataset[idx]\n",
    "#         ax.ravel()[i].imshow(image)\n",
    "#         ax.ravel()[i].set_axis_off()\n",
    "#     plt.suptitle(title, fontsize=25, color='g')\n",
    "#     plt.tight_layout()\n",
    "#     plt.show()"
   ]
  },
  {
   "cell_type": "code",
   "execution_count": 7,
   "id": "czech-study",
   "metadata": {
    "jupyter": {
     "source_hidden": true
    },
    "tags": []
   },
   "outputs": [],
   "source": [
    "# rnd.seed(42)\n",
    "# visualize_augmentations(train_ds, title='Train images')"
   ]
  },
  {
   "cell_type": "code",
   "execution_count": 8,
   "id": "configured-clark",
   "metadata": {
    "jupyter": {
     "source_hidden": true
    },
    "tags": []
   },
   "outputs": [],
   "source": [
    "# rnd.seed(42)\n",
    "# visualize_augmentations(val_ds, title='Validation images')"
   ]
  },
  {
   "cell_type": "markdown",
   "id": "complex-indication",
   "metadata": {},
   "source": [
    "### Training helpers"
   ]
  },
  {
   "cell_type": "code",
   "execution_count": 9,
   "id": "fresh-virus",
   "metadata": {},
   "outputs": [],
   "source": [
    "def calculate_accuracy(output, target):\n",
    "    output = torch.sigmoid(output) >= 0.5\n",
    "    target = target == 1.0\n",
    "    return torch.true_divide((target == output).sum(dim=0), output.size(0)).item()"
   ]
  },
  {
   "cell_type": "code",
   "execution_count": 10,
   "id": "royal-status",
   "metadata": {},
   "outputs": [],
   "source": [
    "class MetricMonitor:\n",
    "    def __init__(self, float_precision=3):\n",
    "        self.float_precision = float_precision\n",
    "        self.reset()\n",
    "\n",
    "    def reset(self):\n",
    "        self.metrics = defaultdict(lambda: {'val': 0, 'count': 0, 'avg': 0})\n",
    "\n",
    "    def update(self, metric_name, val):\n",
    "        metric = self.metrics[metric_name]\n",
    "        metric['val'] += val\n",
    "        metric['count'] += 1\n",
    "        metric['avg'] = metric['val'] / metric['count']\n",
    "\n",
    "    def __str__(self):\n",
    "        return ' | '.join(\n",
    "            [\n",
    "                f'{metric_name}: {metric[\"avg\"]}:.{self.float_precision}f'\n",
    "                for (metric_name, metric) in self.metrics.items()\n",
    "            ]\n",
    "        )"
   ]
  },
  {
   "cell_type": "markdown",
   "id": "yellow-birth",
   "metadata": {},
   "source": [
    "### Define training parameters"
   ]
  },
  {
   "cell_type": "code",
   "execution_count": 11,
   "id": "classified-spectacular",
   "metadata": {},
   "outputs": [],
   "source": [
    "params = {\n",
    "    'model': 'resnet50',\n",
    "    'device': 'cpu',\n",
    "    'lr': 0.001,\n",
    "    'batch_size': 64,\n",
    "    'num_workers': 0,\n",
    "    'epochs': 10,\n",
    "}"
   ]
  },
  {
   "cell_type": "markdown",
   "id": "smoking-omega",
   "metadata": {},
   "source": [
    "### Preparing for training and validation"
   ]
  },
  {
   "cell_type": "code",
   "execution_count": 12,
   "id": "bronze-diary",
   "metadata": {},
   "outputs": [],
   "source": [
    "model = getattr(models, params['model'])(pretrained=False, num_classes=1)\n",
    "model = model.to(params['device'])\n",
    "criterion = nn.BCEWithLogitsLoss().to(params['device'])\n",
    "optimizer = torch.optim.Adam(model.parameters(), lr=params['lr'])"
   ]
  },
  {
   "cell_type": "code",
   "execution_count": 13,
   "id": "metallic-accounting",
   "metadata": {},
   "outputs": [],
   "source": [
    "train_loader = DataLoader(\n",
    "    train_ds, batch_size=params['batch_size'], shuffle=True, num_workers=params['num_workers'], pin_memory=True,\n",
    ")\n",
    "val_loader = DataLoader(\n",
    "    val_ds, batch_size=params['batch_size'], shuffle=False, num_workers=params['num_workers'], pin_memory=True,\n",
    ")"
   ]
  },
  {
   "cell_type": "code",
   "execution_count": 14,
   "id": "under-private",
   "metadata": {},
   "outputs": [],
   "source": [
    "def train(train_loader, model, criterion, optimizer, epoch, params):\n",
    "    metric_monitor = MetricMonitor()\n",
    "    model.train()\n",
    "    stream = tqdm(train_loader)\n",
    "    for i, (images, target) in enumerate(stream, start=1):\n",
    "        images = images.to(params['device'], non_blocking=True).float()\n",
    "        target = target.to(params['device'], non_blocking=True).float().view(-1, 1)\n",
    "        output = model(images)\n",
    "        loss = criterion(output, target)\n",
    "        accuracy = calculate_accuracy(output, target)\n",
    "        metric_monitor.update('Loss', loss.item())\n",
    "        metric_monitor.update('Accuracy', accuracy)\n",
    "        optimizer.zero_grad()\n",
    "        loss.backward()\n",
    "        optimizer.step()\n",
    "        stream.set_description(f'Epoch: {epoch}. Train.      {metric_monitor}')"
   ]
  },
  {
   "cell_type": "code",
   "execution_count": 15,
   "id": "banned-worse",
   "metadata": {},
   "outputs": [],
   "source": [
    "def validate(val_loader, model, criterion, epoch, params):\n",
    "    metric_monitor = MetricMonitor()\n",
    "    model.eval()\n",
    "    stream = tqdm(val_loader)\n",
    "    with torch.no_grad():\n",
    "        for i, (images, target) in enumerate(stream, start=1):\n",
    "            images = images.to(params['device'], non_blocking=True).float()\n",
    "            target = target.to(params['device'], non_blocking=True).float().view(-1, 1)\n",
    "            output = model(images)\n",
    "            loss = criterion(output, target)\n",
    "            accuracy = calculate_accuracy(output, target)\n",
    "\n",
    "            metric_monitor.update('Loss', loss.item())\n",
    "            metric_monitor.update('Accuracy', accuracy)\n",
    "            stream.set_description(f'Epoch: {epoch}. Validation. {metric_monitor}')"
   ]
  },
  {
   "cell_type": "markdown",
   "id": "increased-julian",
   "metadata": {},
   "source": [
    "### Training and validation"
   ]
  },
  {
   "cell_type": "code",
   "execution_count": null,
   "id": "heated-sense",
   "metadata": {
    "tags": []
   },
   "outputs": [
    {
     "name": "stderr",
     "output_type": "stream",
     "text": [
      "Epoch: 1. Train.      Loss: 0.7091145515441895:.3f | Accuracy: 0.484375:.3f:   0%|          | 1/323 [00:14<1:19:47, 14.87s/it]"
     ]
    }
   ],
   "source": [
    "for epoch in range(1, params['epochs'] + 1):\n",
    "    train(train_loader, model, criterion, optimizer, epoch, params)\n",
    "    validate(val_loader, model, criterion, epoch, params)"
   ]
  },
  {
   "cell_type": "markdown",
   "id": "hundred-uniform",
   "metadata": {},
   "source": [
    "### Test"
   ]
  },
  {
   "cell_type": "code",
   "execution_count": null,
   "id": "instructional-jesus",
   "metadata": {},
   "outputs": [],
   "source": [
    "class MalariaInferenceDataset(Dataset):\n",
    "    def __init__(self, root_path, transform=None):\n",
    "        self.path = images_filepaths\n",
    "        self.transform = transform\n",
    "        self.all_paths = glob.glob(self.path + '/Parasitized/*.png') + glob.glob(self.path + '/Uninfected/*.png')\n",
    "\n",
    "    def __len__(self):\n",
    "        return len(self.all_paths)\n",
    "\n",
    "    def __getitem__(self, idx):\n",
    "        path = self.all_paths[idx]\n",
    "        img = imread(path)\n",
    "        if self.transform is not None:\n",
    "            img = self.transform(image=img)['image']\n",
    "        return img"
   ]
  },
  {
   "cell_type": "code",
   "execution_count": null,
   "id": "light-delay",
   "metadata": {},
   "outputs": [],
   "source": [
    "test_transform = A.Compose(\n",
    "    [\n",
    "        A.SmallestMaxSize(max_size=160),\n",
    "        A.CenterCrop(height=128, width=128),\n",
    "        A.Normalize(mean=(0.485, 0.456, 0.406), std=(0.229, 0.224, 0.225)),\n",
    "        ToTensorV2(),\n",
    "    ]\n",
    ")\n",
    "\n",
    "test_ds = MalariaInferenceDataset('data/test', transform=test_transform)\n",
    "test_loader = DataLoader(\n",
    "    test_ds, batch_size=params['batch_size'], shuffle=False, num_workers=params['num_workers'], pin_memory=True,\n",
    ")"
   ]
  },
  {
   "cell_type": "code",
   "execution_count": null,
   "id": "boxed-browser",
   "metadata": {},
   "outputs": [],
   "source": [
    "model = model.eval()\n",
    "predicted_labels = []\n",
    "with torch.no_grad():\n",
    "    for images in test_loader:\n",
    "        images = images.to(params['device'], non_blocking=True)\n",
    "        output = model(images)\n",
    "        predictions = (torch.sigmoid(output) >= 0.5)[:, 0].cpu().numpy()\n",
    "        predicted_labels += ['Cat' if is_cat else 'Dog' for is_cat in predictions]"
   ]
  },
  {
   "cell_type": "code",
   "execution_count": null,
   "id": "leading-success",
   "metadata": {},
   "outputs": [],
   "source": [
    "display_image_grid(test_images_filepaths, predicted_labels)"
   ]
  }
 ],
 "metadata": {
  "kernelspec": {
   "display_name": "Python 3",
   "language": "python",
   "name": "python3"
  },
  "language_info": {
   "codemirror_mode": {
    "name": "ipython",
    "version": 3
   },
   "file_extension": ".py",
   "mimetype": "text/x-python",
   "name": "python",
   "nbconvert_exporter": "python",
   "pygments_lexer": "ipython3",
   "version": "3.8.6"
  }
 },
 "nbformat": 4,
 "nbformat_minor": 5
}
