{
 "cells": [
  {
   "cell_type": "markdown",
   "metadata": {},
   "source": [
    "### Importing libraries"
   ]
  },
  {
   "cell_type": "code",
   "execution_count": 1,
   "metadata": {},
   "outputs": [],
   "source": [
    "from ImgOps import *\n",
    "import numpy as np\n",
    "import cv2 as cv\n",
    "from sklearn.cluster import DBSCAN"
   ]
  },
  {
   "cell_type": "markdown",
   "metadata": {},
   "source": [
    "### Imreading images"
   ]
  },
  {
   "cell_type": "code",
   "execution_count": 2,
   "metadata": {},
   "outputs": [],
   "source": [
    "query_img = cv.imread('query_4.jpg')\n",
    "query_img_gray = cv.cvtColor(query_img, cv.COLOR_BGR2GRAY)\n",
    "imshow(query_img)\n",
    "\n",
    "train_img = cv.imread('train_4.jpg')\n",
    "train_img_gray = cv.cvtColor(train_img, cv.COLOR_BGR2GRAY)\n",
    "imshow(train_img)"
   ]
  },
  {
   "cell_type": "markdown",
   "metadata": {},
   "source": [
    "### Adding keypoints via SIFT"
   ]
  },
  {
   "cell_type": "code",
   "execution_count": 3,
   "metadata": {},
   "outputs": [],
   "source": [
    "# Initiate SIFT detector\n",
    "sift = cv.SIFT_create()\n",
    "\n",
    "# find the keypoints and descriptors with SIFT\n",
    "query_kps, query_des = sift.detectAndCompute(query_img_gray, None)\n",
    "train_kps, train_des = sift.detectAndCompute(train_img_gray, None)"
   ]
  },
  {
   "cell_type": "markdown",
   "metadata": {},
   "source": [
    "### Keypoints matching via FLANN"
   ]
  },
  {
   "cell_type": "code",
   "execution_count": 4,
   "metadata": {},
   "outputs": [],
   "source": [
    "index_params = dict(algorithm=1, trees=5)\n",
    "search_params = dict(checks=50)\n",
    "flann = cv.FlannBasedMatcher(index_params, search_params)\n",
    "matches = flann.knnMatch(query_des, train_des, k=2)\n",
    "matchesMask = [[0, 0] for i in range(len(matches))]\n",
    "\n",
    "good_matches = []\n",
    "for i, (m, n) in enumerate(matches):\n",
    "    if m.distance < .5 * n.distance:\n",
    "        matchesMask[i] = [1, 0]\n",
    "        good_matches.append(m)\n",
    "good_matches = np.asarray(good_matches)\n",
    "\n",
    "draw_params = dict(matchColor=(0, 255, 0),\n",
    "                   matchesMask=matchesMask,\n",
    "                   flags=cv.DRAW_MATCHES_FLAGS_NOT_DRAW_SINGLE_POINTS)\n",
    "matched_img = cv.drawMatchesKnn(query_img, query_kps, train_img, train_kps, matches, None, **draw_params)\n",
    "\n",
    "imshow(matched_img)"
   ]
  },
  {
   "cell_type": "markdown",
   "metadata": {},
   "source": [
    "### Clustering via DBSCAN"
   ]
  },
  {
   "cell_type": "code",
   "execution_count": 6,
   "metadata": {},
   "outputs": [
    {
     "data": {
      "text/plain": [
       "{0: [[286.53848, 262.5918],\n",
       "  [286.53848, 262.5918],\n",
       "  [288.9568, 307.51038],\n",
       "  [288.9568, 307.51038],\n",
       "  [289.6289, 282.88913],\n",
       "  [289.6289, 282.88913],\n",
       "  [292.17508, 262.6499],\n",
       "  [292.17508, 262.6499],\n",
       "  [294.75516, 294.56625],\n",
       "  [296.60086, 287.8304],\n",
       "  [298.2112, 269.9421],\n",
       "  [298.35812, 262.30304],\n",
       "  [299.84317, 294.48398],\n",
       "  [299.84317, 294.48398],\n",
       "  [299.84317, 294.48398],\n",
       "  [303.2797, 266.1803],\n",
       "  [303.2797, 266.1803],\n",
       "  [308.72174, 294.29886],\n",
       "  [310.05545, 266.37903],\n",
       "  [310.05545, 266.37903],\n",
       "  [320.2638, 275.28452],\n",
       "  [320.2638, 275.28452],\n",
       "  [339.07874, 264.37003]],\n",
       " 1: [[575.65515, 140.9867],\n",
       "  [580.5156, 190.17245],\n",
       "  [580.5156, 190.17245],\n",
       "  [586.9829, 172.07022],\n",
       "  [596.8636, 163.81593],\n",
       "  [598.7796, 134.2571],\n",
       "  [605.5413, 103.86533]],\n",
       " 2: [[655.5125, 64.98112],\n",
       "  [655.6221, 57.968853],\n",
       "  [661.8777, 81.8682],\n",
       "  [662.9233, 53.46857],\n",
       "  [663.77374, 181.06851],\n",
       "  [665.76385, 83.77432],\n",
       "  [665.76385, 83.77432],\n",
       "  [666.9806, 59.17556],\n",
       "  [667.18066, 65.44178],\n",
       "  [667.18066, 65.44178],\n",
       "  [667.6852, 176.4375],\n",
       "  [669.9625, 75.35906],\n",
       "  [669.9625, 75.35906],\n",
       "  [670.10095, 129.74744],\n",
       "  [671.2275, 178.3359],\n",
       "  [671.2275, 178.3359],\n",
       "  [671.47687, 97.56299],\n",
       "  [674.491, 185.94373],\n",
       "  [674.491, 185.94373],\n",
       "  [675.5656, 193.48068],\n",
       "  [676.8046, 119.86522],\n",
       "  [676.8046, 119.86522],\n",
       "  [682.5333, 65.26742],\n",
       "  [682.5333, 65.26742],\n",
       "  [682.8812, 84.75887],\n",
       "  [683.9555, 123.48079],\n",
       "  [689.5271, 151.30933],\n",
       "  [690.7219, 85.01022],\n",
       "  [690.7219, 85.01022],\n",
       "  [693.80255, 78.75303],\n",
       "  [695.28784, 133.25465],\n",
       "  [695.6668, 83.067245],\n",
       "  [695.6668, 83.067245],\n",
       "  [698.50995, 84.73766],\n",
       "  [698.50995, 84.73766],\n",
       "  [698.5994, 79.49691],\n",
       "  [698.7875, 74.495895],\n",
       "  [698.7875, 74.495895],\n",
       "  [699.1183, 64.21382],\n",
       "  [699.1183, 64.21382],\n",
       "  [699.4495, 59.45577],\n",
       "  [699.9009, 123.364555],\n",
       "  [701.263, 83.497444],\n",
       "  [701.263, 83.497444],\n",
       "  [702.30365, 150.73863],\n",
       "  [704.02216, 79.33257],\n",
       "  [705.6301, 68.20495],\n",
       "  [706.5752, 85.04134],\n",
       "  [706.5752, 85.04134],\n",
       "  [711.2959, 81.51619],\n",
       "  [711.47314, 80.289375],\n",
       "  [712.36017, 74.42165],\n",
       "  [712.36017, 74.42165],\n",
       "  [714.8493, 67.286674],\n",
       "  [716.1208, 84.820114],\n",
       "  [716.1208, 84.820114],\n",
       "  [716.39886, 146.97954],\n",
       "  [716.8656, 59.75991],\n",
       "  [717.2979, 150.16129],\n",
       "  [717.2979, 150.16129],\n",
       "  [717.43866, 64.07515],\n",
       "  [720.97644, 123.535225],\n",
       "  [722.447, 81.33476],\n",
       "  [722.447, 81.33476],\n",
       "  [722.6457, 74.62589],\n",
       "  [722.6457, 74.62589],\n",
       "  [723.0086, 67.32101],\n",
       "  [723.0086, 67.32101],\n",
       "  [727.5455, 150.07635],\n",
       "  [728.4643, 84.73588],\n",
       "  [730.6051, 74.61005],\n",
       "  [730.6051, 74.61005],\n",
       "  [731.9954, 80.619026],\n",
       "  [731.9954, 80.619026],\n",
       "  [737.0453, 85.41606],\n",
       "  [737.0453, 85.41606],\n",
       "  [737.5537, 64.028946],\n",
       "  [737.5537, 64.028946],\n",
       "  [739.82086, 98.91293],\n",
       "  [746.78326, 65.86232],\n",
       "  [748.4121, 189.08495],\n",
       "  [749.16327, 75.97986],\n",
       "  [753.94116, 76.78732],\n",
       "  [753.94116, 76.78732],\n",
       "  [753.997, 75.70151],\n",
       "  [753.997, 75.70151],\n",
       "  [754.1099, 67.69025],\n",
       "  [754.1099, 67.69025],\n",
       "  [762.41504, 85.397606],\n",
       "  [763.1265, 70.95629],\n",
       "  [771.0994, 64.22309],\n",
       "  [777.4621, 79.6818],\n",
       "  [777.4621, 79.6818],\n",
       "  [782.4212, 89.135506],\n",
       "  [784.724, 64.4459],\n",
       "  [785.99713, 127.99346],\n",
       "  [791.9711, 89.80674],\n",
       "  [792.0068, 85.91356],\n",
       "  [792.1468, 71.70467],\n",
       "  [793.2801, 65.15537],\n",
       "  [793.6122, 66.076035],\n",
       "  [795.9217, 75.615974],\n",
       "  [795.9217, 75.615974],\n",
       "  [799.335, 118.01718],\n",
       "  [799.5414, 122.96081],\n",
       "  [800.9095, 76.36926],\n",
       "  [800.9095, 76.36926],\n",
       "  [800.99316, 68.90366],\n",
       "  [800.99316, 68.90366],\n",
       "  [801.0103, 68.27755],\n",
       "  [801.0103, 68.27755],\n",
       "  [803.5622, 73.25523],\n",
       "  [806.43933, 164.63272],\n",
       "  [808.92334, 67.24284],\n",
       "  [808.92334, 67.24284],\n",
       "  [809.4355, 85.67702],\n",
       "  [809.4355, 85.67702]]}"
      ]
     },
     "execution_count": 6,
     "metadata": {},
     "output_type": "execute_result"
    }
   ],
   "source": [
    "x_pts = np.float32([query_kps[des.queryIdx].pt[0] for des in good_matches])\n",
    "y_pts = np.float32([query_kps[des.queryIdx].pt[1] for des in good_matches])\n",
    "\n",
    "good_crd = []\n",
    "for x, y in zip(x_pts, y_pts):\n",
    "    good_crd.append([x, y])\n",
    "\n",
    "cluster_gps = DBSCAN(eps=50, min_samples=5).fit_predict(good_crd)\n",
    "\n",
    "group_pts = {}\n",
    "for gp, pt in zip(cluster_gps, good_crd):\n",
    "    if gp == -1: continue\n",
    "    else:\n",
    "        if gp not in group_pts:\n",
    "            group_pts[gp] = [pt]\n",
    "        else:\n",
    "            group_pts[gp].append(pt)"
   ]
  },
  {
   "cell_type": "markdown",
   "metadata": {},
   "source": [
    "### Show clusterized image"
   ]
  },
  {
   "cell_type": "code",
   "execution_count": 6,
   "metadata": {},
   "outputs": [],
   "source": [
    "for pts in group_pts.values():\n",
    "    for x, y in pts:\n",
    "        clust_img = cv.circle(query_img, (int(x), int(y)), radius=3, color=(255, 0, 255), thickness=-1)\n",
    "    imshow(clust_img)\n",
    "    clust_img = None"
   ]
  },
  {
   "cell_type": "markdown",
   "metadata": {},
   "source": [
    "### Feature Homography"
   ]
  },
  {
   "cell_type": "code",
   "execution_count": 22,
   "metadata": {
    "scrolled": false
   },
   "outputs": [
    {
     "name": "stdout",
     "output_type": "stream",
     "text": [
      "[[[286.53848 262.5918 ]]\n",
      "\n",
      " [[286.53848 262.5918 ]]\n",
      "\n",
      " [[288.9568  307.51038]]\n",
      "\n",
      " [[288.9568  307.51038]]\n",
      "\n",
      " [[289.6289  282.88913]]\n",
      "\n",
      " [[289.6289  282.88913]]\n",
      "\n",
      " [[292.17508 262.6499 ]]\n",
      "\n",
      " [[292.17508 262.6499 ]]\n",
      "\n",
      " [[294.75516 294.56625]]\n",
      "\n",
      " [[296.60086 287.8304 ]]\n",
      "\n",
      " [[298.2112  269.9421 ]]\n",
      "\n",
      " [[298.35812 262.30304]]\n",
      "\n",
      " [[299.84317 294.48398]]\n",
      "\n",
      " [[299.84317 294.48398]]\n",
      "\n",
      " [[299.84317 294.48398]]\n",
      "\n",
      " [[303.2797  266.1803 ]]\n",
      "\n",
      " [[303.2797  266.1803 ]]\n",
      "\n",
      " [[308.72174 294.29886]]\n",
      "\n",
      " [[310.05545 266.37903]]\n",
      "\n",
      " [[310.05545 266.37903]]\n",
      "\n",
      " [[320.2638  275.28452]]\n",
      "\n",
      " [[320.2638  275.28452]]\n",
      "\n",
      " [[339.07874 264.37003]]]\n"
     ]
    },
    {
     "ename": "error",
     "evalue": "OpenCV(4.4.0) C:\\Users\\appveyor\\AppData\\Local\\Temp\\1\\pip-req-build-9d_dfo3_\\opencv\\modules\\calib3d\\src\\fundam.cpp:380: error: (-215:Assertion failed) src.checkVector(2) == dst.checkVector(2) in function 'cv::findHomography'\n",
     "output_type": "error",
     "traceback": [
      "\u001b[1;31m---------------------------------------------------------------------------\u001b[0m",
      "\u001b[1;31merror\u001b[0m                                     Traceback (most recent call last)",
      "\u001b[1;32m<ipython-input-22-0e44b21b8269>\u001b[0m in \u001b[0;36m<module>\u001b[1;34m\u001b[0m\n\u001b[0;32m      4\u001b[0m     \u001b[0msrc\u001b[0m \u001b[1;33m=\u001b[0m \u001b[0mnp\u001b[0m\u001b[1;33m.\u001b[0m\u001b[0masarray\u001b[0m\u001b[1;33m(\u001b[0m\u001b[0mgroup_pts\u001b[0m\u001b[1;33m[\u001b[0m\u001b[0mkey\u001b[0m\u001b[1;33m]\u001b[0m\u001b[1;33m)\u001b[0m\u001b[1;33m.\u001b[0m\u001b[0mreshape\u001b[0m\u001b[1;33m(\u001b[0m\u001b[1;33m-\u001b[0m\u001b[1;36m1\u001b[0m\u001b[1;33m,\u001b[0m \u001b[1;36m1\u001b[0m\u001b[1;33m,\u001b[0m \u001b[1;36m2\u001b[0m\u001b[1;33m)\u001b[0m\u001b[1;33m\u001b[0m\u001b[1;33m\u001b[0m\u001b[0m\n\u001b[0;32m      5\u001b[0m     \u001b[0mprint\u001b[0m\u001b[1;33m(\u001b[0m\u001b[0msrc\u001b[0m\u001b[1;33m)\u001b[0m\u001b[1;33m\u001b[0m\u001b[1;33m\u001b[0m\u001b[0m\n\u001b[1;32m----> 6\u001b[1;33m     \u001b[0mM\u001b[0m\u001b[1;33m,\u001b[0m \u001b[0m_\u001b[0m \u001b[1;33m=\u001b[0m \u001b[0mcv\u001b[0m\u001b[1;33m.\u001b[0m\u001b[0mfindHomography\u001b[0m\u001b[1;33m(\u001b[0m\u001b[0mdst\u001b[0m\u001b[1;33m,\u001b[0m \u001b[0msrc\u001b[0m\u001b[1;33m,\u001b[0m \u001b[0mcv\u001b[0m\u001b[1;33m.\u001b[0m\u001b[0mRANSAC\u001b[0m\u001b[1;33m,\u001b[0m \u001b[1;36m5.\u001b[0m\u001b[1;33m)\u001b[0m\u001b[1;33m\u001b[0m\u001b[1;33m\u001b[0m\u001b[0m\n\u001b[0m\u001b[0;32m      7\u001b[0m     \u001b[0mh\u001b[0m\u001b[1;33m,\u001b[0m \u001b[0mw\u001b[0m \u001b[1;33m=\u001b[0m \u001b[0mtrain_img\u001b[0m\u001b[1;33m.\u001b[0m\u001b[0mshape\u001b[0m\u001b[1;33m\u001b[0m\u001b[1;33m\u001b[0m\u001b[0m\n\u001b[0;32m      8\u001b[0m     \u001b[0mpts\u001b[0m \u001b[1;33m=\u001b[0m \u001b[0mnp\u001b[0m\u001b[1;33m.\u001b[0m\u001b[0mfloat32\u001b[0m\u001b[1;33m(\u001b[0m\u001b[1;33m[\u001b[0m\u001b[1;33m[\u001b[0m\u001b[1;36m0\u001b[0m\u001b[1;33m,\u001b[0m \u001b[1;36m0\u001b[0m\u001b[1;33m]\u001b[0m\u001b[1;33m,\u001b[0m \u001b[1;33m[\u001b[0m\u001b[1;36m0\u001b[0m\u001b[1;33m,\u001b[0m \u001b[0mh\u001b[0m\u001b[1;33m]\u001b[0m\u001b[1;33m,\u001b[0m \u001b[1;33m[\u001b[0m\u001b[0mw\u001b[0m\u001b[1;33m,\u001b[0m \u001b[0mh\u001b[0m\u001b[1;33m]\u001b[0m\u001b[1;33m,\u001b[0m \u001b[1;33m[\u001b[0m\u001b[0mw\u001b[0m\u001b[1;33m,\u001b[0m \u001b[1;36m0\u001b[0m\u001b[1;33m]\u001b[0m\u001b[1;33m]\u001b[0m\u001b[1;33m)\u001b[0m\u001b[1;33m.\u001b[0m\u001b[0mreshape\u001b[0m\u001b[1;33m(\u001b[0m\u001b[1;33m-\u001b[0m\u001b[1;36m1\u001b[0m\u001b[1;33m,\u001b[0m \u001b[1;36m1\u001b[0m\u001b[1;33m,\u001b[0m \u001b[1;36m2\u001b[0m\u001b[1;33m)\u001b[0m\u001b[1;33m\u001b[0m\u001b[1;33m\u001b[0m\u001b[0m\n",
      "\u001b[1;31merror\u001b[0m: OpenCV(4.4.0) C:\\Users\\appveyor\\AppData\\Local\\Temp\\1\\pip-req-build-9d_dfo3_\\opencv\\modules\\calib3d\\src\\fundam.cpp:380: error: (-215:Assertion failed) src.checkVector(2) == dst.checkVector(2) in function 'cv::findHomography'\n"
     ]
    }
   ],
   "source": [
    "dst = np.float32([train_kps[m.trainIdx].pt for m in good_matches]).reshape(-1, 1, 2)\n",
    "\n",
    "for key in group_pts:\n",
    "    src = np.asarray(group_pts[key]).reshape(-1, 1, 2)\n",
    "    M, _ = cv.findHomography(dst, src, cv.RANSAC, 5.)\n",
    "    h, w = train_img.shape\n",
    "    pts = np.float32([[0, 0], [0, h], [w, h], [w, 0]]).reshape(-1, 1, 2)\n",
    "    dst = cv.perspectiveTransform(pts, M)\n",
    "    res_img = cv.polylines(query_img, [np.int32(dst)], True, 255, 3, cv.LINE_AA)"
   ]
  },
  {
   "cell_type": "code",
   "execution_count": 20,
   "metadata": {
    "scrolled": true
   },
   "outputs": [
    {
     "data": {
      "text/plain": [
       "(23, 1, 2)"
      ]
     },
     "execution_count": 20,
     "metadata": {},
     "output_type": "execute_result"
    }
   ],
   "source": [
    "src.shape"
   ]
  },
  {
   "cell_type": "code",
   "execution_count": 21,
   "metadata": {},
   "outputs": [
    {
     "data": {
      "text/plain": [
       "(154, 1, 2)"
      ]
     },
     "execution_count": 21,
     "metadata": {},
     "output_type": "execute_result"
    }
   ],
   "source": [
    "dst.shape"
   ]
  }
 ],
 "metadata": {
  "kernelspec": {
   "display_name": "Python 3",
   "language": "python",
   "name": "python3"
  },
  "language_info": {
   "codemirror_mode": {
    "name": "ipython",
    "version": 3
   },
   "file_extension": ".py",
   "mimetype": "text/x-python",
   "name": "python",
   "nbconvert_exporter": "python",
   "pygments_lexer": "ipython3",
   "version": "3.8.3"
  }
 },
 "nbformat": 4,
 "nbformat_minor": 4
}
