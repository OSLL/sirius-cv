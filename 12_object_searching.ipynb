{
  "nbformat": 4,
  "nbformat_minor": 0,
  "metadata": {
    "colab": {
      "name": "ORB_matching.ipynb",
      "provenance": [],
      "collapsed_sections": [],
      "authorship_tag": "ABX9TyNziui4mTjGz+tWAFouJh0Q",
      "include_colab_link": true
    },
    "kernelspec": {
      "name": "python3",
      "display_name": "Python 3"
    }
  },
  "cells": [
    {
      "cell_type": "markdown",
      "metadata": {
        "id": "view-in-github",
        "colab_type": "text"
      },
      "source": [
        "<a href=\"https://colab.research.google.com/github/OSLL/sirius-cv/blob/12_Daniil_Savinov_object_detection/12_object_searching.ipynb\" target=\"_parent\"><img src=\"https://colab.research.google.com/assets/colab-badge.svg\" alt=\"Open In Colab\"/></a>"
      ]
    },
    {
      "cell_type": "markdown",
      "metadata": {
        "id": "Zf2Tw7JUKxmf"
      },
      "source": [
        "# **Поиск объекта на изображении с помощью ORB-детектора и BF-матчера**"
      ]
    },
    {
      "cell_type": "markdown",
      "metadata": {
        "id": "CV2HPxyYPlIh"
      },
      "source": [
        "### **Импорт библиотек**"
      ]
    },
    {
      "cell_type": "code",
      "metadata": {
        "id": "eUtPiaInLQAJ"
      },
      "source": [
        "import numpy as np\n",
        "import cv2 as cv\n",
        "from google.colab.patches import cv2_imshow"
      ],
      "execution_count": 19,
      "outputs": []
    },
    {
      "cell_type": "markdown",
      "metadata": {
        "id": "NUvXvVUDPzRa"
      },
      "source": [
        "### **Загрузка, чтение и показ запросного и тренировочного изображений**"
      ]
    },
    {
      "cell_type": "code",
      "metadata": {
        "id": "sh_ZrnbT-Ysg"
      },
      "source": [
        "!wget https://happylifeguide.ru/userfiles/upload/images/polka%20supermarketa.jpg\n",
        "img1 = cv.imread('/content/polka supermarketa.jpg',cv.IMREAD_GRAYSCALE)\n",
        "cv2_imshow(img1)"
      ],
      "execution_count": null,
      "outputs": []
    },
    {
      "cell_type": "code",
      "metadata": {
        "id": "x-qt9w9R-aen"
      },
      "source": [
        "!wget https://raw.githubusercontent.com/SaviDan245/binder/master/643C96C6-C7FF-40A6-93BC-8B89C8F6A72B.jpeg\n",
        "img2 = cv.imread('/content/643C96C6-C7FF-40A6-93BC-8B89C8F6A72B.jpeg',cv.IMREAD_GRAYSCALE)\n",
        "cv2_imshow(img2)"
      ],
      "execution_count": null,
      "outputs": []
    },
    {
      "cell_type": "markdown",
      "metadata": {
        "id": "wN1BWoMFQAB_"
      },
      "source": [
        "### **Нахождение кейпоинтов на изображениях**"
      ]
    },
    {
      "cell_type": "code",
      "metadata": {
        "id": "lb_RL1lv-a0b"
      },
      "source": [
        "# Инициализация ORB-детектора\n",
        "orb = cv.ORB_create()\n",
        "# Нахождение кейпоинтов и дескрипторов на изображениях\n",
        "kp1, des1 = orb.detectAndCompute(img1,None)\n",
        "kp2, des2 = orb.detectAndCompute(img2,None)"
      ],
      "execution_count": 22,
      "outputs": []
    },
    {
      "cell_type": "markdown",
      "metadata": {
        "id": "WrwfpDrEZXxw"
      },
      "source": [
        "### **Сопоставление дескрипторов с помощью BF-матчера и отображение результатов**"
      ]
    },
    {
      "cell_type": "code",
      "metadata": {
        "id": "C_At2VXzA92-"
      },
      "source": [
        "# Создание объекта BF-матчера\n",
        "bf = cv.BFMatcher(cv.NORM_HAMMING, crossCheck=True)\n",
        "# Сопоставление дескрипторов\n",
        "matches = bf.match(des1,des2)\n",
        "# Сортировка совпадений по возрастанию их расстояний\n",
        "matches = sorted(matches, key=lambda x: x.distance)\n",
        "# Отображение первых 10 совпадений\n",
        "result = cv.drawMatches(img1,kp1,img2,kp2,matches[:10],None,\n",
        "                      flags=cv.DrawMatchesFlags_NOT_DRAW_SINGLE_POINTS)\n",
        "cv2_imshow(result)"
      ],
      "execution_count": null,
      "outputs": []
    }
  ]
}